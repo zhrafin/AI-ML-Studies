{
 "cells": [
  {
   "cell_type": "code",
   "execution_count": 1,
   "id": "5025305e-c47a-416e-9199-80a94620c481",
   "metadata": {},
   "outputs": [],
   "source": [
    "import tensorflow_hub as hub\n",
    "import tensorflow_text as text"
   ]
  },
  {
   "cell_type": "code",
   "execution_count": 2,
   "id": "f0efb7ef-d3b6-4c2d-bbc3-0a1bfd99f22e",
   "metadata": {},
   "outputs": [],
   "source": [
    "encoder_url = 'https://www.kaggle.com/models/tensorflow/bert/tensorFlow2/en-uncased-l-12-h-768-a-12/4'"
   ]
  },
  {
   "cell_type": "code",
   "execution_count": 3,
   "id": "53ce4365-bc59-421a-af0a-4e73c390b4e0",
   "metadata": {},
   "outputs": [],
   "source": [
    "preprocess_url = 'https://www.kaggle.com/models/tensorflow/bert/tensorFlow2/en-uncased-preprocess/3'"
   ]
  },
  {
   "cell_type": "code",
   "execution_count": 4,
   "id": "af31f32d-33e7-48aa-9015-14711d427a80",
   "metadata": {},
   "outputs": [],
   "source": [
    "bert_preprocess_model = hub.KerasLayer(preprocess_url)"
   ]
  },
  {
   "cell_type": "code",
   "execution_count": 5,
   "id": "64424cbf-5a08-42ec-bec8-53e41e97d5ba",
   "metadata": {},
   "outputs": [
    {
     "data": {
      "text/plain": [
       "dict_keys(['input_type_ids', 'input_word_ids', 'input_mask'])"
      ]
     },
     "execution_count": 5,
     "metadata": {},
     "output_type": "execute_result"
    }
   ],
   "source": [
    "text_test = ['that was a very nice movie', 'I hate java programming']\n",
    "text_preprocessed = bert_preprocess_model(text_test)\n",
    "text_preprocessed.keys()"
   ]
  },
  {
   "cell_type": "code",
   "execution_count": 7,
   "id": "4e47d4cd-1a0d-46b1-9bf3-549be5c6d63b",
   "metadata": {},
   "outputs": [],
   "source": [
    "bert_model = hub.KerasLayer(encoder_url)"
   ]
  },
  {
   "cell_type": "code",
   "execution_count": 8,
   "id": "a94815ef-1766-4369-800c-24cc0f658e21",
   "metadata": {},
   "outputs": [
    {
     "data": {
      "text/plain": [
       "dict_keys(['default', 'sequence_output', 'pooled_output', 'encoder_outputs'])"
      ]
     },
     "execution_count": 8,
     "metadata": {},
     "output_type": "execute_result"
    }
   ],
   "source": [
    "bert_results = bert_model(text_preprocessed)\n",
    "bert_results.keys()"
   ]
  },
  {
   "cell_type": "code",
   "execution_count": null,
   "id": "eaaad8d9-1a39-4903-b26c-27b101f4e224",
   "metadata": {},
   "outputs": [],
   "source": []
  }
 ],
 "metadata": {
  "kernelspec": {
   "display_name": "Python 3 (ipykernel)",
   "language": "python",
   "name": "python3"
  },
  "language_info": {
   "codemirror_mode": {
    "name": "ipython",
    "version": 3
   },
   "file_extension": ".py",
   "mimetype": "text/x-python",
   "name": "python",
   "nbconvert_exporter": "python",
   "pygments_lexer": "ipython3",
   "version": "3.9.21"
  }
 },
 "nbformat": 4,
 "nbformat_minor": 5
}
