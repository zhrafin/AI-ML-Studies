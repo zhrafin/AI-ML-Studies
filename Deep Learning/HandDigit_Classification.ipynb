{
  "nbformat": 4,
  "nbformat_minor": 0,
  "metadata": {
    "colab": {
      "provenance": []
    },
    "kernelspec": {
      "name": "python3",
      "display_name": "Python 3"
    },
    "language_info": {
      "name": "python"
    }
  },
  "cells": [
    {
      "cell_type": "code",
      "execution_count": 61,
      "metadata": {
        "id": "KiOgCYRYoFLe"
      },
      "outputs": [],
      "source": [
        "import torch\n",
        "from torchvision import datasets\n",
        "from matplotlib import pyplot as plt\n",
        "from torchvision.transforms import transforms\n",
        "import torch.nn as nn\n"
      ]
    },
    {
      "cell_type": "markdown",
      "source": [
        "### Download train and test data from torch datasets\n",
        "\n",
        "\n",
        "\n"
      ],
      "metadata": {
        "id": "HMlW64PMqA8_"
      }
    },
    {
      "cell_type": "code",
      "source": [
        "\"\"\"The as training_data, test_data are touple data,\n",
        "holding the image and the label of inside\"\"\"\n",
        "\n",
        "training_data = datasets.FashionMNIST(\n",
        "    root = \"data\", # name od the directory of the notebook where the data will be downloaded we can name it anything\n",
        "    train=True,\n",
        "    download=True,\n",
        "    transform=ToTensor()\n",
        ")\n",
        "\n",
        "test_data = datasets.FashionMNIST(\n",
        "    root = \"data\",\n",
        "    train=False,\n",
        "    download=True,\n",
        "    transform=ToTensor()\n",
        ")"
      ],
      "metadata": {
        "id": "lkzybdQmpVkr"
      },
      "execution_count": 41,
      "outputs": []
    },
    {
      "cell_type": "code",
      "source": [
        "len(training_data)"
      ],
      "metadata": {
        "colab": {
          "base_uri": "https://localhost:8080/"
        },
        "id": "RfCjWsTmptVm",
        "outputId": "98b741da-c5e6-4960-996e-557ac28ae572"
      },
      "execution_count": 42,
      "outputs": [
        {
          "output_type": "execute_result",
          "data": {
            "text/plain": [
              "60000"
            ]
          },
          "metadata": {},
          "execution_count": 42
        }
      ]
    },
    {
      "cell_type": "code",
      "source": [
        "image, label = training_data[0] #as training_data is a touple data, holding the inage and the llabel of it"
      ],
      "metadata": {
        "id": "8GDZErBAqmX_"
      },
      "execution_count": 43,
      "outputs": []
    },
    {
      "cell_type": "code",
      "source": [
        "image.shape # inside torch.Size([1, 28, 28]) 1 means gray scale, 28x28 is the size"
      ],
      "metadata": {
        "colab": {
          "base_uri": "https://localhost:8080/"
        },
        "id": "ox1YTWASqqne",
        "outputId": "b27d7b41-130d-4f54-ae66-908b89f09425"
      },
      "execution_count": 44,
      "outputs": [
        {
          "output_type": "execute_result",
          "data": {
            "text/plain": [
              "torch.Size([1, 28, 28])"
            ]
          },
          "metadata": {},
          "execution_count": 44
        }
      ]
    },
    {
      "cell_type": "code",
      "source": [
        "label"
      ],
      "metadata": {
        "colab": {
          "base_uri": "https://localhost:8080/"
        },
        "id": "p72TW2_Rq8kv",
        "outputId": "4cdfc364-1434-4240-b688-e868e3f9a208"
      },
      "execution_count": 45,
      "outputs": [
        {
          "output_type": "execute_result",
          "data": {
            "text/plain": [
              "9"
            ]
          },
          "metadata": {},
          "execution_count": 45
        }
      ]
    },
    {
      "cell_type": "code",
      "source": [
        "image.squeeze().shape #removing gray scale to see main shape"
      ],
      "metadata": {
        "colab": {
          "base_uri": "https://localhost:8080/"
        },
        "id": "5_B_mpILq9wx",
        "outputId": "c3f9077f-9126-4858-8e41-c9a4c8bb6b78"
      },
      "execution_count": 46,
      "outputs": [
        {
          "output_type": "execute_result",
          "data": {
            "text/plain": [
              "torch.Size([28, 28])"
            ]
          },
          "metadata": {},
          "execution_count": 46
        }
      ]
    },
    {
      "cell_type": "code",
      "source": [
        "plt.figure(figsize=(2,2))\n",
        "plt.imshow(image.squeeze(), cmap=\"gray\")\n",
        "plt.show()"
      ],
      "metadata": {
        "colab": {
          "base_uri": "https://localhost:8080/",
          "height": 217
        },
        "id": "RlNsN9TorfQ_",
        "outputId": "cf663c7b-a77a-4381-b308-026f1f5cc5b0"
      },
      "execution_count": 64,
      "outputs": [
        {
          "output_type": "display_data",
          "data": {
            "text/plain": [
              "<Figure size 200x200 with 1 Axes>"
            ],
            "image/png": "[encoded data removed]"
          },
          "metadata": {}
        }
      ]
    },
    {
      "cell_type": "markdown",
      "source": [
        "### Preparing data for training"
      ],
      "metadata": {
        "id": "HusV0owYvhas"
      }
    },
    {
      "cell_type": "code",
      "source": [
        "from torch.utils.data import DataLoader"
      ],
      "metadata": {
        "id": "3VjCbybpryHt"
      },
      "execution_count": 48,
      "outputs": []
    },
    {
      "cell_type": "code",
      "source": [
        "train_dataloader = DataLoader(training_data, batch_size=100, shuffle=True)\n",
        "test_dataloader = DataLoader(test_data, batch_size=100, shuffle=True)"
      ],
      "metadata": {
        "id": "11pe7bM8wDt4"
      },
      "execution_count": 49,
      "outputs": []
    },
    {
      "cell_type": "markdown",
      "source": [
        "#### **iter()**\n",
        "is a built-in Python function that *returns an iterator object from an iterable *\n",
        "(like a list, tuple, DataLoader, generator, etc.).\n",
        "This lets you *manually control* how you fetch the batches, *instead of relying on a for loop*.\n",
        "\n",
        " #### **next()**\n",
        " fetches the next batch from data_ite"
      ],
      "metadata": {
        "id": "y0nb_eyGxWVH"
      }
    },
    {
      "cell_type": "code",
      "source": [
        "data_iter = iter(training_data)\n",
        "images, labels = next(data_iter)"
      ],
      "metadata": {
        "id": "YobIUz91wN5Y"
      },
      "execution_count": 50,
      "outputs": []
    },
    {
      "cell_type": "markdown",
      "source": [
        "\n",
        "\n",
        "---\n",
        "\n"
      ],
      "metadata": {
        "id": "ohKlvAXQ8wXH"
      }
    },
    {
      "cell_type": "markdown",
      "source": [
        "# **New Data** : Hand Writen Digits"
      ],
      "metadata": {
        "id": "VOBDpkXi6pki"
      }
    },
    {
      "cell_type": "markdown",
      "source": [
        "### pipeline for transforming the data"
      ],
      "metadata": {
        "id": "XxHQ163_8cx8"
      }
    },
    {
      "cell_type": "code",
      "source": [
        "transform = transforms.Compose([\n",
        "    transforms.ToTensor(), #converting 0-255 into [0,1) range\n",
        "    transforms.Normalize((0.5,), (0.5,)) #then converting [0,1) to [-1,1] for zero centered\n",
        "]) # inside .Normalize((0.5,), (0.5,)) the first 0.5 is mean an the second one is std dev.\n",
        "# formula inside .Normalize((0.5,), (0.5,)) normalized_pixel = (pixel-mean)/std_dev\n",
        "\n"
      ],
      "metadata": {
        "id": "k5JHgWGqxT5b"
      },
      "execution_count": 52,
      "outputs": []
    },
    {
      "cell_type": "markdown",
      "source": [
        "### Download train and test data from torch datasets"
      ],
      "metadata": {
        "id": "-yPpwysT8j8_"
      }
    },
    {
      "cell_type": "code",
      "source": [
        "train_data =  datasets.MNIST(\n",
        "    root=\"data\",\n",
        "    train=True,\n",
        "    download=True,\n",
        "    transform = transform\n",
        ")\n",
        "\n",
        "testing_data =  datasets.MNIST(\n",
        "    root=\"data\",\n",
        "    train=True,\n",
        "    download=True,\n",
        "    transform = transform\n",
        ")"
      ],
      "metadata": {
        "colab": {
          "base_uri": "https://localhost:8080/"
        },
        "id": "-77IOdbG8cTc",
        "outputId": "6b3945a7-716b-40a8-f1c6-0a663e2b534b"
      },
      "execution_count": 54,
      "outputs": [
        {
          "output_type": "stream",
          "name": "stderr",
          "text": [
            "100%|██████████| 9.91M/9.91M [00:00<00:00, 48.1MB/s]\n",
            "100%|██████████| 28.9k/28.9k [00:00<00:00, 1.72MB/s]\n",
            "100%|██████████| 1.65M/1.65M [00:00<00:00, 12.3MB/s]\n",
            "100%|██████████| 4.54k/4.54k [00:00<00:00, 4.28MB/s]\n"
          ]
        }
      ]
    },
    {
      "cell_type": "markdown",
      "source": [
        "### Preparing data for training"
      ],
      "metadata": {
        "id": "FTM1DKTt9QaS"
      }
    },
    {
      "cell_type": "code",
      "source": [
        "train_dataloader = DataLoader(train_data, batch_size=100, shuffle=True)\n",
        "test_dataloader = DataLoader(testing_data, batch_size=100, shuffle=True)"
      ],
      "metadata": {
        "id": "mqVIcW1e9QET"
      },
      "execution_count": 55,
      "outputs": []
    },
    {
      "cell_type": "code",
      "source": [
        "plt.figure(figsize=(2,2))\n",
        "plt.imshow(train_data[5][0].squeeze(), cmap=\"gray\")\n",
        "plt.show()"
      ],
      "metadata": {
        "colab": {
          "base_uri": "https://localhost:8080/",
          "height": 217
        },
        "id": "S4FSoyql9bVx",
        "outputId": "a290bfa1-27d3-4190-dade-9e998f8a3d4a"
      },
      "execution_count": 59,
      "outputs": [
        {
          "output_type": "display_data",
          "data": {
            "text/plain": [
              "<Figure size 200x200 with 1 Axes>"
            ],
            "image/png": "[encoded data removed]"
          },
          "metadata": {}
        }
      ]
    },
    {
      "cell_type": "markdown",
      "source": [
        "### Implementing the Neural Network"
      ],
      "metadata": {
        "id": "6Cf9nHAMEGxF"
      }
    },
    {
      "cell_type": "code",
      "source": [
        "class DigitClassifier(nn.Module):\n",
        "  def __init__(self):\n",
        "    super().__init__()\n",
        "    self.network = nn.Sequential(\n",
        "        nn.Flatten(),\n",
        "        nn.Linear(784, 256),\n",
        "        nn.LeakyReLU(),\n",
        "        nn.Linear(256, 32),\n",
        "        nn.LeakyReLU(),\n",
        "        nn.Linear(32, 10)\n",
        "    )\n",
        "  def forward(self, x):\n",
        "    return self.network(x)"
      ],
      "metadata": {
        "id": "rMruNzI89ixN"
      },
      "execution_count": 62,
      "outputs": []
    },
    {
      "cell_type": "markdown",
      "source": [
        "#### Model load, Creatinng criterion funtion and Otimizer"
      ],
      "metadata": {
        "id": "WAvAGhbuEIQ3"
      }
    },
    {
      "cell_type": "code",
      "source": [
        "model = DigitClassifier()\n",
        "criterion = nn.CrossEntropyLoss()\n",
        "optimizer = torch.optim.Adam(model.parameters(), lr=0.001)"
      ],
      "metadata": {
        "id": "KDMai6G--rem"
      },
      "execution_count": 65,
      "outputs": []
    },
    {
      "cell_type": "markdown",
      "source": [
        "### Training the model"
      ],
      "metadata": {
        "id": "hBzWnBwODxXV"
      }
    },
    {
      "cell_type": "code",
      "source": [
        "epochs = 5\n",
        "\n",
        "for e in range(epochs):\n",
        "  for images, labels in train_dataloader:\n",
        "\n",
        "    #forward pass\n",
        "    prediction = model(images)\n",
        "    loss = criterion(prediction, labels)\n",
        "\n",
        "    #backwardpass\n",
        "    optimizer.zero_grad()\n",
        "    loss.backward()\n",
        "\n",
        "    #update weight\n",
        "    optimizer.step()\n",
        "\n",
        "\n",
        "  print(f\"Epoch: {e+1} Loss: {loss.item()}\")\n"
      ],
      "metadata": {
        "colab": {
          "base_uri": "https://localhost:8080/"
        },
        "id": "CzjNEibF_REN",
        "outputId": "bc9211df-08fa-4700-b10a-783f929b5ced"
      },
      "execution_count": 67,
      "outputs": [
        {
          "output_type": "stream",
          "name": "stdout",
          "text": [
            "Epoch: 1 Loss: 0.10036944597959518\n",
            "Epoch: 2 Loss: 0.05554967373609543\n",
            "Epoch: 3 Loss: 0.03962283208966255\n",
            "Epoch: 4 Loss: 0.10643462836742401\n",
            "Epoch: 5 Loss: 0.05547536909580231\n"
          ]
        }
      ]
    },
    {
      "cell_type": "markdown",
      "source": [
        "### Model Evaluation"
      ],
      "metadata": {
        "id": "hfesiQnmD3Gw"
      }
    },
    {
      "cell_type": "code",
      "source": [
        "model.eval()\n",
        "\n",
        "total=0\n",
        "corr=0\n",
        "\n",
        "with torch.no_grad():\n",
        "  for images, labels in test_dataloader:\n",
        "    prediction = model(images)\n",
        "\n",
        "    #loss = criterion(prediction, labels)\n",
        "    #print(f\"Test Loss: {loss.item()}\")\n",
        "\n",
        "    _, predicted = torch.max(prediction.data, 1)\n",
        "\n",
        "    '''taking max bc inside the prediction\n",
        "    there is a tensor of 10 predictions and the\n",
        "    maximum prediction is the intented outpur,\n",
        "    \"_\" is taking te image and prediicted is talking the labels.\n",
        "    \"_\" is used bc it wont be useful for us'''\n",
        "    print(predicted)\n",
        "    print()\n",
        "    print(labels)\n",
        "\n",
        "    if(predicted==labels).sum().item():\n",
        "      corr+=1\n",
        "\n",
        "    total+=1\n",
        "    break\n",
        "print(f\"Accuracy: {100* corr/total: .3f}\")\n",
        "\n"
      ],
      "metadata": {
        "colab": {
          "base_uri": "https://localhost:8080/"
        },
        "id": "9mtLZs8aA5Q8",
        "outputId": "05adef87-7ffe-46b5-e9a2-0389f83eb3d6"
      },
      "execution_count": 104,
      "outputs": [
        {
          "output_type": "stream",
          "name": "stdout",
          "text": [
            "tensor([4, 2, 1, 9, 2, 6, 3, 5, 2, 3, 2, 0, 0, 5, 6, 7, 7, 5, 6, 8, 6, 6, 8, 2,\n",
            "        6, 8, 6, 9, 5, 7, 8, 1, 0, 5, 6, 0, 8, 1, 0, 2, 1, 7, 3, 3, 1, 3, 6, 1,\n",
            "        4, 7, 5, 0, 0, 5, 1, 1, 5, 1, 1, 8, 5, 1, 9, 4, 8, 5, 2, 5, 9, 6, 7, 4,\n",
            "        5, 4, 4, 2, 9, 7, 9, 4, 8, 9, 9, 0, 7, 1, 1, 1, 4, 5, 2, 5, 7, 2, 8, 1,\n",
            "        5, 4, 7, 1])\n",
            "\n",
            "tensor([4, 2, 1, 9, 2, 6, 3, 5, 2, 3, 2, 0, 0, 5, 6, 7, 7, 5, 6, 8, 6, 6, 8, 2,\n",
            "        6, 8, 6, 9, 5, 7, 8, 1, 0, 5, 6, 0, 8, 1, 0, 2, 1, 7, 3, 3, 1, 3, 6, 1,\n",
            "        4, 7, 5, 0, 0, 5, 1, 1, 5, 1, 1, 8, 5, 1, 9, 4, 8, 0, 2, 5, 9, 6, 7, 4,\n",
            "        5, 4, 4, 2, 9, 7, 9, 4, 8, 9, 9, 0, 7, 1, 1, 1, 4, 5, 2, 5, 7, 2, 8, 1,\n",
            "        5, 4, 7, 1])\n",
            "Accuracy:  100.000\n"
          ]
        }
      ]
    },
    {
      "cell_type": "code",
      "source": [
        "print(predicted == labels)"
      ],
      "metadata": {
        "colab": {
          "base_uri": "https://localhost:8080/"
        },
        "id": "TtrHV7VYEZRJ",
        "outputId": "c4e4ecaf-a435-4922-9cf0-2043c9e3ddeb"
      },
      "execution_count": 99,
      "outputs": [
        {
          "output_type": "stream",
          "name": "stdout",
          "text": [
            "tensor([ True,  True,  True,  True,  True,  True,  True,  True,  True,  True,\n",
            "         True,  True,  True,  True,  True,  True,  True,  True,  True,  True,\n",
            "         True,  True,  True,  True,  True,  True,  True,  True,  True,  True,\n",
            "         True,  True,  True,  True,  True,  True,  True,  True,  True,  True,\n",
            "         True,  True,  True,  True,  True,  True,  True,  True,  True,  True,\n",
            "         True,  True,  True,  True,  True,  True,  True,  True,  True,  True,\n",
            "         True,  True,  True,  True,  True,  True, False,  True,  True,  True,\n",
            "         True,  True,  True,  True,  True,  True,  True,  True,  True,  True,\n",
            "         True,  True,  True,  True,  True,  True,  True,  True,  True,  True,\n",
            "         True,  True,  True,  True,  True,  True,  True,  True,  True,  True])\n"
          ]
        }
      ]
    },
    {
      "cell_type": "code",
      "source": [
        "(predicted == labels).sum()"
      ],
      "metadata": {
        "colab": {
          "base_uri": "https://localhost:8080/"
        },
        "id": "hprn-yReEfw5",
        "outputId": "ecd28c12-f5e6-4292-db3e-e91e1922c0bb"
      },
      "execution_count": 100,
      "outputs": [
        {
          "output_type": "execute_result",
          "data": {
            "text/plain": [
              "tensor(99)"
            ]
          },
          "metadata": {},
          "execution_count": 100
        }
      ]
    },
    {
      "cell_type": "markdown",
      "source": [
        "### Classification report and Confusion Matrix"
      ],
      "metadata": {
        "id": "WCb9skm8IVig"
      }
    },
    {
      "cell_type": "code",
      "source": [
        "model.eval()\n",
        "\n",
        "all_predicted = []\n",
        "all_labels = []\n",
        "\n",
        "with torch.no_grad():\n",
        "  for images, labels in test_dataloader:\n",
        "    prediction = model(images)\n",
        "    _, predicted = torch.max(prediction.data, 1)\n",
        "\n",
        "    all_predicted.extend(predicted.numpy())\n",
        "    all_labels.extend(labels.numpy())\n"
      ],
      "metadata": {
        "id": "TXAeJsI0Ej2S"
      },
      "execution_count": 101,
      "outputs": []
    },
    {
      "cell_type": "markdown",
      "source": [
        "#### Building Confusion Matrix"
      ],
      "metadata": {
        "id": "9w9mpESqJSQS"
      }
    },
    {
      "cell_type": "code",
      "source": [
        "from sklearn.metrics import confusion_matrix\n",
        "import seaborn as sns"
      ],
      "metadata": {
        "id": "fEqx5nTvI6Mh"
      },
      "execution_count": 102,
      "outputs": []
    },
    {
      "cell_type": "code",
      "source": [
        "cm = confusion_matrix(all_labels, all_predicted)\n",
        "cm"
      ],
      "metadata": {
        "colab": {
          "base_uri": "https://localhost:8080/"
        },
        "id": "Yke5o7XTJL7o",
        "outputId": "470128d6-7628-4e3c-cbc6-a78b0a78753e"
      },
      "execution_count": 105,
      "outputs": [
        {
          "output_type": "execute_result",
          "data": {
            "text/plain": [
              "array([[5868,    0,    4,    1,    0,   17,   19,    1,    7,    6],\n",
              "       [   0, 6633,   16,   14,   11,   10,   12,   14,   13,   19],\n",
              "       [   7,   10, 5866,   11,    1,    4,    7,   28,   19,    5],\n",
              "       [   0,    1,   13, 5993,    0,   55,    0,   25,   24,   20],\n",
              "       [   3,    1,   13,    0, 5688,    5,   22,    9,   17,   84],\n",
              "       [   4,    0,    1,   14,    1, 5365,   19,    0,    3,   14],\n",
              "       [   6,    0,    2,    0,    2,   25, 5882,    0,    1,    0],\n",
              "       [   4,    7,   13,    6,    7,    4,    0, 6171,    4,   49],\n",
              "       [   8,    6,    7,   16,    1,   17,   12,    2, 5759,   23],\n",
              "       [   8,    1,    2,    5,   13,   17,    1,   19,    7, 5876]])"
            ]
          },
          "metadata": {},
          "execution_count": 105
        }
      ]
    },
    {
      "cell_type": "code",
      "source": [
        "plt.figure(figsize=(8,6))\n",
        "sns.heatmap(cm, annot=True, fmt=\"d\", cmap=\"Reds\")\n",
        "'''\n",
        "1. annot stands for annotation.\n",
        "If True, Seaborn writes the actual numeric values inside each heatmap cell.\n",
        "If False, it only shows the colors without the numbers.\n",
        "\n",
        "2.\n",
        "'''\n",
        "plt.xlabel(\"Predicted\")\n",
        "plt.ylabel(\"Actual\")\n",
        "plt.show()"
      ],
      "metadata": {
        "colab": {
          "base_uri": "https://localhost:8080/",
          "height": 531
        },
        "id": "ChqL7SScJPjg",
        "outputId": "4fb6f242-264c-4472-f640-bfe670f4ad79"
      },
      "execution_count": 113,
      "outputs": [
        {
          "output_type": "display_data",
          "data": {
            "text/plain": [
              "<Figure size 800x600 with 2 Axes>"
            ],
            "image/png": "[encoded data removed]"
          },
          "metadata": {}
        }
      ]
    },
    {
      "cell_type": "code",
      "source": [],
      "metadata": {
        "id": "p6cINbgcJmRS"
      },
      "execution_count": null,
      "outputs": []
    }
  ]
}