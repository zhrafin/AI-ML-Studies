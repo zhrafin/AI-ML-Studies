{
 "cells": [
  {
   "cell_type": "markdown",
   "id": "d7e19799",
   "metadata": {},
   "source": [
    "<h2 align=\"center\">Codebasics DL Course: Employee Bonus Prediction</h2>"
   ]
  },
  {
   "cell_type": "markdown",
   "id": "aca2ebb1",
   "metadata": {},
   "source": [
    "#### Load the Dataset"
   ]
  },
  {
   "cell_type": "code",
   "execution_count": 64,
   "id": "2984d2bd",
   "metadata": {},
   "outputs": [
    {
     "data": {
      "text/html": [
       "<div>\n",
       "<style scoped>\n",
       "    .dataframe tbody tr th:only-of-type {\n",
       "        vertical-align: middle;\n",
       "    }\n",
       "\n",
       "    .dataframe tbody tr th {\n",
       "        vertical-align: top;\n",
       "    }\n",
       "\n",
       "    .dataframe thead th {\n",
       "        text-align: right;\n",
       "    }\n",
       "</style>\n",
       "<table border=\"1\" class=\"dataframe\">\n",
       "  <thead>\n",
       "    <tr style=\"text-align: right;\">\n",
       "      <th></th>\n",
       "      <th>employee_id</th>\n",
       "      <th>performance</th>\n",
       "      <th>years_of_experience</th>\n",
       "      <th>projects_completed</th>\n",
       "      <th>bonus</th>\n",
       "    </tr>\n",
       "  </thead>\n",
       "  <tbody>\n",
       "    <tr>\n",
       "      <th>0</th>\n",
       "      <td>EMP_001</td>\n",
       "      <td>7</td>\n",
       "      <td>1</td>\n",
       "      <td>3</td>\n",
       "      <td>116</td>\n",
       "    </tr>\n",
       "    <tr>\n",
       "      <th>1</th>\n",
       "      <td>EMP_002</td>\n",
       "      <td>4</td>\n",
       "      <td>8</td>\n",
       "      <td>10</td>\n",
       "      <td>136</td>\n",
       "    </tr>\n",
       "    <tr>\n",
       "      <th>2</th>\n",
       "      <td>EMP_003</td>\n",
       "      <td>8</td>\n",
       "      <td>4</td>\n",
       "      <td>5</td>\n",
       "      <td>150</td>\n",
       "    </tr>\n",
       "    <tr>\n",
       "      <th>3</th>\n",
       "      <td>EMP_004</td>\n",
       "      <td>5</td>\n",
       "      <td>4</td>\n",
       "      <td>7</td>\n",
       "      <td>118</td>\n",
       "    </tr>\n",
       "    <tr>\n",
       "      <th>4</th>\n",
       "      <td>EMP_005</td>\n",
       "      <td>7</td>\n",
       "      <td>5</td>\n",
       "      <td>6</td>\n",
       "      <td>146</td>\n",
       "    </tr>\n",
       "  </tbody>\n",
       "</table>\n",
       "</div>"
      ],
      "text/plain": [
       "  employee_id  performance  years_of_experience  projects_completed  bonus\n",
       "0     EMP_001            7                    1                   3    116\n",
       "1     EMP_002            4                    8                  10    136\n",
       "2     EMP_003            8                    4                   5    150\n",
       "3     EMP_004            5                    4                   7    118\n",
       "4     EMP_005            7                    5                   6    146"
      ]
     },
     "execution_count": 64,
     "metadata": {},
     "output_type": "execute_result"
    }
   ],
   "source": [
    "import pandas as pd\n",
    "\n",
    "# Load data from CSV file\n",
    "df = pd.read_csv(\"bonus.csv\")\n",
    "df.head()"
   ]
  },
  {
   "cell_type": "markdown",
   "id": "12c1258a",
   "metadata": {},
   "source": [
    "#### Train Test Split"
   ]
  },
  {
   "cell_type": "code",
   "execution_count": 65,
   "id": "3f40ec4a",
   "metadata": {},
   "outputs": [],
   "source": [
    "from sklearn.model_selection import train_test_split\n",
    "\n",
    "# Separate features and target\n",
    "X = df[['performance', 'years_of_experience', 'projects_completed']].values\n",
    "y = df[['bonus']].values  # Ensure target is a 2D array for compatibility\n",
    "\n",
    "# Split data into train and test sets\n",
    "X_train, X_test, y_train, y_test = train_test_split(X, y, test_size=0.2, random_state=0)"
   ]
  },
  {
   "cell_type": "markdown",
   "id": "cb7d5ff5",
   "metadata": {},
   "source": [
    "#### Train a Neural Network"
   ]
  },
  {
   "cell_type": "code",
   "execution_count": 66,
   "id": "73a349d4",
   "metadata": {},
   "outputs": [],
   "source": [
    "import torch\n",
    "import torch.nn as nn\n",
    "import torch.optim as optim\n",
    "\n",
    "# Seed for reproducibility\n",
    "torch.manual_seed(0)\n",
    "\n",
    "# Convert to PyTorch tensors\n",
    "X_train_tensor = torch.tensor(X_train, dtype=torch.float32)\n",
    "y_train_tensor = torch.tensor(y_train, dtype=torch.float32)\n",
    "X_test_tensor = torch.tensor(X_test, dtype=torch.float32)\n",
    "y_test_tensor = torch.tensor(y_test, dtype=torch.float32)"
   ]
  },
  {
   "cell_type": "code",
   "execution_count": 67,
   "id": "c48da242",
   "metadata": {},
   "outputs": [],
   "source": [
    "class BonusPredictor(nn.Module):\n",
    "    def __init__(self):\n",
    "        super().__init__()\n",
    "        self.network = nn.Sequential(\n",
    "            nn.Linear(3, 1),  # 3 input features -> 1 output neuron\n",
    "        )\n",
    "\n",
    "    def forward(self, x):\n",
    "        return self.network(x)"
   ]
  },
  {
   "cell_type": "code",
   "execution_count": 68,
   "id": "fdd1cf1a",
   "metadata": {},
   "outputs": [],
   "source": [
    "model = BonusPredictor()\n",
    "criterion = nn.MSELoss()\n",
    "optimizer = optim.SGD(model.parameters(), lr=0.005)"
   ]
  },
  {
   "cell_type": "code",
   "execution_count": 69,
   "id": "9f9f4efa",
   "metadata": {},
   "outputs": [
    {
     "name": "stdout",
     "output_type": "stream",
     "text": [
      "Epoch [100/5000], Loss: 22.07\n",
      "Epoch [200/5000], Loss: 19.01\n",
      "Epoch [300/5000], Loss: 16.60\n",
      "Epoch [400/5000], Loss: 14.56\n",
      "Epoch [500/5000], Loss: 12.80\n",
      "Epoch [600/5000], Loss: 11.27\n",
      "Epoch [700/5000], Loss: 9.92\n",
      "Epoch [800/5000], Loss: 8.73\n",
      "Epoch [900/5000], Loss: 7.69\n",
      "Epoch [1000/5000], Loss: 6.77\n",
      "Epoch [1100/5000], Loss: 5.96\n",
      "Epoch [1200/5000], Loss: 5.25\n",
      "Epoch [1300/5000], Loss: 4.62\n",
      "Epoch [1400/5000], Loss: 4.07\n",
      "Epoch [1500/5000], Loss: 3.58\n",
      "Epoch [1600/5000], Loss: 3.15\n",
      "Epoch [1700/5000], Loss: 2.78\n",
      "Epoch [1800/5000], Loss: 2.44\n",
      "Epoch [1900/5000], Loss: 2.15\n",
      "Epoch [2000/5000], Loss: 1.90\n",
      "Epoch [2100/5000], Loss: 1.67\n",
      "Epoch [2200/5000], Loss: 1.47\n",
      "Epoch [2300/5000], Loss: 1.29\n",
      "Epoch [2400/5000], Loss: 1.14\n",
      "Epoch [2500/5000], Loss: 1.00\n",
      "Epoch [2600/5000], Loss: 0.88\n",
      "Epoch [2700/5000], Loss: 0.78\n",
      "Epoch [2800/5000], Loss: 0.68\n",
      "Epoch [2900/5000], Loss: 0.60\n",
      "Epoch [3000/5000], Loss: 0.53\n",
      "Epoch [3100/5000], Loss: 0.47\n",
      "Epoch [3200/5000], Loss: 0.41\n",
      "Epoch [3300/5000], Loss: 0.36\n",
      "Epoch [3400/5000], Loss: 0.32\n",
      "Epoch [3500/5000], Loss: 0.28\n",
      "Epoch [3600/5000], Loss: 0.25\n",
      "Epoch [3700/5000], Loss: 0.22\n",
      "Epoch [3800/5000], Loss: 0.19\n",
      "Epoch [3900/5000], Loss: 0.17\n",
      "Epoch [4000/5000], Loss: 0.15\n",
      "Epoch [4100/5000], Loss: 0.13\n",
      "Epoch [4200/5000], Loss: 0.12\n",
      "Epoch [4300/5000], Loss: 0.10\n",
      "Epoch [4400/5000], Loss: 0.09\n",
      "Epoch [4500/5000], Loss: 0.08\n",
      "Epoch [4600/5000], Loss: 0.07\n",
      "Epoch [4700/5000], Loss: 0.06\n",
      "Epoch [4800/5000], Loss: 0.05\n",
      "Epoch [4900/5000], Loss: 0.05\n",
      "Epoch [5000/5000], Loss: 0.04\n"
     ]
    }
   ],
   "source": [
    "# Training loop\n",
    "epochs = 5000\n",
    "for epoch in range(epochs):\n",
    "    # Forward pass: Compute predicted bonus by passing X_train\n",
    "    predictions = model(X_train_tensor)\n",
    "    loss = criterion(predictions, y_train_tensor)\n",
    "\n",
    "    # Backward pass: Compute gradients\n",
    "    optimizer.zero_grad()\n",
    "    loss.backward()\n",
    "\n",
    "    # Update parameters\n",
    "    optimizer.step()\n",
    "\n",
    "    # Print loss every 100 epochs\n",
    "    if (epoch + 1) % 100 == 0:\n",
    "        print(f\"Epoch [{epoch + 1}/{epochs}], Loss: {loss.item():.2f}\")"
   ]
  },
  {
   "cell_type": "code",
   "execution_count": 70,
   "id": "a1341421",
   "metadata": {},
   "outputs": [
    {
     "name": "stdout",
     "output_type": "stream",
     "text": [
      "Test Loss: 0.0417\n"
     ]
    }
   ],
   "source": [
    "# Switch to evaluation mode (important for models with dropout/batch norm layers)\n",
    "model.eval()\n",
    "\n",
    "# Disable gradient calculations for evaluation to save memory\n",
    "with torch.no_grad():\n",
    "    test_predictions = model(X_test_tensor)\n",
    "    test_loss = criterion(test_predictions, y_test_tensor)\n",
    "\n",
    "print(f\"Test Loss: {test_loss.item():.4f}\")"
   ]
  },
  {
   "cell_type": "code",
   "execution_count": 71,
   "id": "b30c7755",
   "metadata": {},
   "outputs": [
    {
     "data": {
      "text/plain": [
       "tensor([[ 8.,  9., 10.],\n",
       "        [ 9.,  2.,  5.],\n",
       "        [ 3.,  7.,  8.]])"
      ]
     },
     "execution_count": 71,
     "metadata": {},
     "output_type": "execute_result"
    }
   ],
   "source": [
    "X_test_tensor[:3]"
   ]
  },
  {
   "cell_type": "code",
   "execution_count": 72,
   "id": "cf975065",
   "metadata": {},
   "outputs": [
    {
     "data": {
      "text/plain": [
       "tensor([[189.9579],\n",
       "        [150.1561],\n",
       "        [113.7303]])"
      ]
     },
     "execution_count": 72,
     "metadata": {},
     "output_type": "execute_result"
    }
   ],
   "source": [
    "test_predictions[:3]"
   ]
  },
  {
   "cell_type": "code",
   "execution_count": 73,
   "id": "41a6978b",
   "metadata": {},
   "outputs": [
    {
     "data": {
      "text/plain": [
       "tensor([[190.],\n",
       "        [150.],\n",
       "        [114.]])"
      ]
     },
     "execution_count": 73,
     "metadata": {},
     "output_type": "execute_result"
    }
   ],
   "source": [
    "y_test_tensor[:3]"
   ]
  },
  {
   "cell_type": "code",
   "execution_count": 74,
   "id": "e2ccda91",
   "metadata": {},
   "outputs": [
    {
     "name": "stdout",
     "output_type": "stream",
     "text": [
      "Name: network.0.weight, Value: Parameter containing:\n",
      "tensor([[12.0335,  5.8423,  2.1879]], requires_grad=True)\n",
      "Name: network.0.bias, Value: Parameter containing:\n",
      "tensor([19.2311], requires_grad=True)\n"
     ]
    }
   ],
   "source": [
    "for name, value in model.named_parameters():\n",
    "    print(f\"Name: {name}, Value: {value}\")"
   ]
  }
 ],
 "metadata": {
  "kernelspec": {
   "display_name": "Python 3 (ipykernel)",
   "language": "python",
   "name": "python3"
  },
  "language_info": {
   "codemirror_mode": {
    "name": "ipython",
    "version": 3
   },
   "file_extension": ".py",
   "mimetype": "text/x-python",
   "name": "python",
   "nbconvert_exporter": "python",
   "pygments_lexer": "ipython3",
   "version": "3.10.11"
  }
 },
 "nbformat": 4,
 "nbformat_minor": 5
}
